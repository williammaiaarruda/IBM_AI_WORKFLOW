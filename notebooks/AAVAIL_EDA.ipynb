{
 "cells": [
  {
   "cell_type": "markdown",
   "metadata": {},
   "source": [
    "# AAVAIL Exploratory Data Analysis"
   ]
  },
  {
   "cell_type": "markdown",
   "metadata": {},
   "source": [
    "### Dataset\n",
    "\n",
    "To sum up, AAVAIL managers have asked to build a service that, at any point in time, will predict the revenue for the following month, in general or for specific countries. To keep the development time reasonable the model should be limited to the ten countries with the most revenue.\n",
    "\n",
    "The available data is stored in a set of several json files which represents a monthly data of AAVAIL's transaction for different countries. \n",
    "\n",
    "### Attribute Information:\n",
    "\n",
    "The features found in the data are: \n",
    "\n",
    "- country\n",
    "- customer_id\n",
    "- day\n",
    "- invoice\n",
    "- month\n",
    "- stream_id\n",
    "- times_viewed\n",
    "- total_price\n",
    "- year\n",
    "\n",
    "### Testable hypotheses.\n",
    "\n",
    "Some testable hypotheses could be:\n",
    "\n",
    "- Does the new model perform better than the managers' custom methods, i.e. does it achieve a lower Mean Absolute Error (MAE), given the training set and test set provided by the company? \n",
    "\n",
    "- Is the MAE difference significant?\n",
    "\n",
    "- Does customers' behavior vary across countries, i.e. in terms of revenue?\n"
   ]
  },
  {
   "cell_type": "code",
   "execution_count": 1,
   "metadata": {},
   "outputs": [],
   "source": [
    "import os, json, re\n",
    "import numpy as np\n",
    "import pandas as pd\n",
    "import matplotlib.pyplot as plt\n",
    "import seaborn as sns\n",
    "import missingno as msno\n",
    "from scipy.stats import norm"
   ]
  },
  {
   "cell_type": "code",
   "execution_count": 2,
   "metadata": {},
   "outputs": [],
   "source": [
    "%matplotlib inline"
   ]
  },
  {
   "cell_type": "markdown",
   "metadata": {},
   "source": [
    "### Data Ingestion"
   ]
  },
  {
   "cell_type": "code",
   "execution_count": 3,
   "metadata": {},
   "outputs": [],
   "source": [
    "def fetch_data(data_dir):\n",
    "    \"\"\"\n",
    "    laod all json formatted files into a dataframe\n",
    "    \"\"\"\n",
    "\n",
    "    ## input testing\n",
    "    if not os.path.isdir(data_dir):\n",
    "        raise Exception(\"specified data dir does not exist\")\n",
    "        \n",
    "    if not len(os.listdir(data_dir)) > 0:\n",
    "        raise Exception(\"specified data dir does not contain any files\")\n",
    "\n",
    "    file_list = [os.path.join(data_dir,f) for f in os.listdir(data_dir) if re.search(\"\\.json\",f)]\n",
    "    \n",
    "    correct_columns = ['country', 'customer_id', 'day', 'invoice', 'month', 'price', 'stream_id', 'times_viewed', 'year']\n",
    "\n",
    "    ## read data into a temp structure\n",
    "    all_months = {}\n",
    "    for file_name in file_list:\n",
    "        df = pd.read_json(file_name)\n",
    "        all_months[os.path.split(file_name)[-1]] = df\n",
    "\n",
    "    ## ensure the data are formatted with correct columns\n",
    "    for f,df in all_months.items():\n",
    "        cols = set(df.columns.tolist())\n",
    "        if 'StreamID' in cols:\n",
    "             df.rename(columns={'StreamID':'stream_id'},inplace=True)\n",
    "        if 'TimesViewed' in cols:\n",
    "            df.rename(columns={'TimesViewed':'times_viewed'},inplace=True)\n",
    "        if 'total_price' in cols:\n",
    "            df.rename(columns={'total_price':'price'},inplace=True)\n",
    "\n",
    "        cols = df.columns.tolist()\n",
    "        if sorted(cols) != correct_columns:\n",
    "            raise Exception(\"columns name could not be matched to correct cols\")\n",
    "\n",
    "    ## concat all of the data\n",
    "    df = pd.concat(list(all_months.values()),sort=True)\n",
    "    \n",
    "    years,months,days = df['year'].values,df['month'].values,df['day'].values \n",
    "    \n",
    "    dates = [\"{}-{}-{}\".format(years[i],str(months[i]).zfill(2),str(days[i]).zfill(2)) for i in range(df.shape[0])]\n",
    "    \n",
    "    df['invoice_date'] = np.array(dates,dtype='datetime64[D]')\n",
    "    \n",
    "    df['invoice'] = [re.sub(\"\\D+\",\"\",i) for i in df['invoice'].values]\n",
    "    \n",
    "    ## sort by date and reset the index\n",
    "    df.sort_values(by='invoice_date',inplace=True)\n",
    "    df.reset_index(drop=True,inplace=True)\n",
    "    \n",
    "    return(df)"
   ]
  },
  {
   "cell_type": "code",
   "execution_count": 33,
   "metadata": {},
   "outputs": [],
   "source": [
    "# Function to Detection Outlier on one-dimentional datasets.\n",
    "anomalies=[]\n",
    "def find_anomalies(data):\n",
    "    anomalies.clear()\n",
    "    # Set upper and lower limit to 3 standard deviation\n",
    "    data_std = np.std(data)\n",
    "    data_mean = np.mean(data)\n",
    "    anomaly_cut_off = data_std * 3\n",
    "    \n",
    "    lower_limit = data_mean - anomaly_cut_off \n",
    "    upper_limit = data_mean + anomaly_cut_off\n",
    "    \n",
    "    # Generate outliers\n",
    "    for outlier in data:\n",
    "        if outlier > upper_limit or outlier < lower_limit:\n",
    "            anomalies.append(outlier)\n",
    "    return anomalies"
   ]
  },
  {
   "cell_type": "code",
   "execution_count": 4,
   "metadata": {},
   "outputs": [
    {
     "name": "stdout",
     "output_type": "stream",
     "text": [
      "(815011, 10)\n"
     ]
    }
   ],
   "source": [
    "df_total = pd.DataFrame()\n",
    "\n",
    "data_dir = os.path.join(\"..\",\"data\",\"cs-train\")\n",
    "\n",
    "df_total = fetch_data(data_dir)\n",
    "\n",
    "print(df_total.shape)\n"
   ]
  },
  {
   "cell_type": "code",
   "execution_count": 5,
   "metadata": {},
   "outputs": [
    {
     "data": {
      "text/html": [
       "<div>\n",
       "<style scoped>\n",
       "    .dataframe tbody tr th:only-of-type {\n",
       "        vertical-align: middle;\n",
       "    }\n",
       "\n",
       "    .dataframe tbody tr th {\n",
       "        vertical-align: top;\n",
       "    }\n",
       "\n",
       "    .dataframe thead th {\n",
       "        text-align: right;\n",
       "    }\n",
       "</style>\n",
       "<table border=\"1\" class=\"dataframe\">\n",
       "  <thead>\n",
       "    <tr style=\"text-align: right;\">\n",
       "      <th></th>\n",
       "      <th>country</th>\n",
       "      <th>customer_id</th>\n",
       "      <th>day</th>\n",
       "      <th>invoice</th>\n",
       "      <th>month</th>\n",
       "      <th>price</th>\n",
       "      <th>stream_id</th>\n",
       "      <th>times_viewed</th>\n",
       "      <th>year</th>\n",
       "      <th>invoice_date</th>\n",
       "    </tr>\n",
       "  </thead>\n",
       "  <tbody>\n",
       "    <tr>\n",
       "      <th>0</th>\n",
       "      <td>United Kingdom</td>\n",
       "      <td>13085.0</td>\n",
       "      <td>28</td>\n",
       "      <td>489434</td>\n",
       "      <td>11</td>\n",
       "      <td>6.95</td>\n",
       "      <td>85048</td>\n",
       "      <td>12</td>\n",
       "      <td>2017</td>\n",
       "      <td>2017-11-28</td>\n",
       "    </tr>\n",
       "    <tr>\n",
       "      <th>1</th>\n",
       "      <td>United Kingdom</td>\n",
       "      <td>13085.0</td>\n",
       "      <td>28</td>\n",
       "      <td>489434</td>\n",
       "      <td>11</td>\n",
       "      <td>6.75</td>\n",
       "      <td>79323W</td>\n",
       "      <td>12</td>\n",
       "      <td>2017</td>\n",
       "      <td>2017-11-28</td>\n",
       "    </tr>\n",
       "    <tr>\n",
       "      <th>2</th>\n",
       "      <td>United Kingdom</td>\n",
       "      <td>13085.0</td>\n",
       "      <td>28</td>\n",
       "      <td>489434</td>\n",
       "      <td>11</td>\n",
       "      <td>2.10</td>\n",
       "      <td>22041</td>\n",
       "      <td>21</td>\n",
       "      <td>2017</td>\n",
       "      <td>2017-11-28</td>\n",
       "    </tr>\n",
       "    <tr>\n",
       "      <th>3</th>\n",
       "      <td>United Kingdom</td>\n",
       "      <td>13085.0</td>\n",
       "      <td>28</td>\n",
       "      <td>489434</td>\n",
       "      <td>11</td>\n",
       "      <td>1.25</td>\n",
       "      <td>21232</td>\n",
       "      <td>5</td>\n",
       "      <td>2017</td>\n",
       "      <td>2017-11-28</td>\n",
       "    </tr>\n",
       "    <tr>\n",
       "      <th>4</th>\n",
       "      <td>United Kingdom</td>\n",
       "      <td>13085.0</td>\n",
       "      <td>28</td>\n",
       "      <td>489434</td>\n",
       "      <td>11</td>\n",
       "      <td>1.65</td>\n",
       "      <td>22064</td>\n",
       "      <td>17</td>\n",
       "      <td>2017</td>\n",
       "      <td>2017-11-28</td>\n",
       "    </tr>\n",
       "    <tr>\n",
       "      <th>5</th>\n",
       "      <td>United Kingdom</td>\n",
       "      <td>13085.0</td>\n",
       "      <td>28</td>\n",
       "      <td>489434</td>\n",
       "      <td>11</td>\n",
       "      <td>1.25</td>\n",
       "      <td>21871</td>\n",
       "      <td>14</td>\n",
       "      <td>2017</td>\n",
       "      <td>2017-11-28</td>\n",
       "    </tr>\n",
       "    <tr>\n",
       "      <th>6</th>\n",
       "      <td>United Kingdom</td>\n",
       "      <td>13085.0</td>\n",
       "      <td>28</td>\n",
       "      <td>489434</td>\n",
       "      <td>11</td>\n",
       "      <td>5.95</td>\n",
       "      <td>21523</td>\n",
       "      <td>10</td>\n",
       "      <td>2017</td>\n",
       "      <td>2017-11-28</td>\n",
       "    </tr>\n",
       "    <tr>\n",
       "      <th>7</th>\n",
       "      <td>United Kingdom</td>\n",
       "      <td>13085.0</td>\n",
       "      <td>28</td>\n",
       "      <td>489435</td>\n",
       "      <td>11</td>\n",
       "      <td>2.55</td>\n",
       "      <td>22350</td>\n",
       "      <td>12</td>\n",
       "      <td>2017</td>\n",
       "      <td>2017-11-28</td>\n",
       "    </tr>\n",
       "    <tr>\n",
       "      <th>8</th>\n",
       "      <td>United Kingdom</td>\n",
       "      <td>13085.0</td>\n",
       "      <td>28</td>\n",
       "      <td>489435</td>\n",
       "      <td>11</td>\n",
       "      <td>3.75</td>\n",
       "      <td>22349</td>\n",
       "      <td>12</td>\n",
       "      <td>2017</td>\n",
       "      <td>2017-11-28</td>\n",
       "    </tr>\n",
       "    <tr>\n",
       "      <th>9</th>\n",
       "      <td>United Kingdom</td>\n",
       "      <td>13085.0</td>\n",
       "      <td>28</td>\n",
       "      <td>489435</td>\n",
       "      <td>11</td>\n",
       "      <td>1.65</td>\n",
       "      <td>22195</td>\n",
       "      <td>18</td>\n",
       "      <td>2017</td>\n",
       "      <td>2017-11-28</td>\n",
       "    </tr>\n",
       "  </tbody>\n",
       "</table>\n",
       "</div>"
      ],
      "text/plain": [
       "          country  customer_id  day invoice  month  price stream_id  \\\n",
       "0  United Kingdom      13085.0   28  489434     11   6.95     85048   \n",
       "1  United Kingdom      13085.0   28  489434     11   6.75    79323W   \n",
       "2  United Kingdom      13085.0   28  489434     11   2.10     22041   \n",
       "3  United Kingdom      13085.0   28  489434     11   1.25     21232   \n",
       "4  United Kingdom      13085.0   28  489434     11   1.65     22064   \n",
       "5  United Kingdom      13085.0   28  489434     11   1.25     21871   \n",
       "6  United Kingdom      13085.0   28  489434     11   5.95     21523   \n",
       "7  United Kingdom      13085.0   28  489435     11   2.55     22350   \n",
       "8  United Kingdom      13085.0   28  489435     11   3.75     22349   \n",
       "9  United Kingdom      13085.0   28  489435     11   1.65     22195   \n",
       "\n",
       "   times_viewed  year invoice_date  \n",
       "0            12  2017   2017-11-28  \n",
       "1            12  2017   2017-11-28  \n",
       "2            21  2017   2017-11-28  \n",
       "3             5  2017   2017-11-28  \n",
       "4            17  2017   2017-11-28  \n",
       "5            14  2017   2017-11-28  \n",
       "6            10  2017   2017-11-28  \n",
       "7            12  2017   2017-11-28  \n",
       "8            12  2017   2017-11-28  \n",
       "9            18  2017   2017-11-28  "
      ]
     },
     "execution_count": 5,
     "metadata": {},
     "output_type": "execute_result"
    }
   ],
   "source": [
    "\n",
    "df_total.head(10)"
   ]
  },
  {
   "cell_type": "code",
   "execution_count": 6,
   "metadata": {},
   "outputs": [
    {
     "name": "stdout",
     "output_type": "stream",
     "text": [
      "Number of different countries contained in the dataset\n"
     ]
    },
    {
     "data": {
      "text/plain": [
       "43"
      ]
     },
     "execution_count": 6,
     "metadata": {},
     "output_type": "execute_result"
    }
   ],
   "source": [
    "print(\"Number of different countries contained in the dataset\")\n",
    "len(set(df_total['country']))"
   ]
  },
  {
   "cell_type": "code",
   "execution_count": 7,
   "metadata": {},
   "outputs": [
    {
     "name": "stdout",
     "output_type": "stream",
     "text": [
      "Number of different days covered by the dataset\n"
     ]
    },
    {
     "data": {
      "text/plain": [
       "495"
      ]
     },
     "execution_count": 7,
     "metadata": {},
     "output_type": "execute_result"
    }
   ],
   "source": [
    "print(\"Number of different days covered by the dataset\")\n",
    "len(set(df_total['invoice_date']))"
   ]
  },
  {
   "cell_type": "code",
   "execution_count": 8,
   "metadata": {},
   "outputs": [
    {
     "data": {
      "text/html": [
       "<div>\n",
       "<style scoped>\n",
       "    .dataframe tbody tr th:only-of-type {\n",
       "        vertical-align: middle;\n",
       "    }\n",
       "\n",
       "    .dataframe tbody tr th {\n",
       "        vertical-align: top;\n",
       "    }\n",
       "\n",
       "    .dataframe thead th {\n",
       "        text-align: right;\n",
       "    }\n",
       "</style>\n",
       "<table border=\"1\" class=\"dataframe\">\n",
       "  <thead>\n",
       "    <tr style=\"text-align: right;\">\n",
       "      <th></th>\n",
       "      <th>customer_id</th>\n",
       "      <th>day</th>\n",
       "      <th>month</th>\n",
       "      <th>price</th>\n",
       "      <th>times_viewed</th>\n",
       "      <th>year</th>\n",
       "    </tr>\n",
       "  </thead>\n",
       "  <tbody>\n",
       "    <tr>\n",
       "      <th>count</th>\n",
       "      <td>625249.000000</td>\n",
       "      <td>815011.000000</td>\n",
       "      <td>815011.000000</td>\n",
       "      <td>815011.000000</td>\n",
       "      <td>815011.000000</td>\n",
       "      <td>815011.000000</td>\n",
       "    </tr>\n",
       "    <tr>\n",
       "      <th>mean</th>\n",
       "      <td>15333.415068</td>\n",
       "      <td>15.064819</td>\n",
       "      <td>6.592718</td>\n",
       "      <td>4.802631</td>\n",
       "      <td>5.231106</td>\n",
       "      <td>2018.247654</td>\n",
       "    </tr>\n",
       "    <tr>\n",
       "      <th>std</th>\n",
       "      <td>1698.360788</td>\n",
       "      <td>8.788845</td>\n",
       "      <td>3.598781</td>\n",
       "      <td>135.058707</td>\n",
       "      <td>5.109982</td>\n",
       "      <td>0.545261</td>\n",
       "    </tr>\n",
       "    <tr>\n",
       "      <th>min</th>\n",
       "      <td>12346.000000</td>\n",
       "      <td>1.000000</td>\n",
       "      <td>1.000000</td>\n",
       "      <td>-53594.360000</td>\n",
       "      <td>0.000000</td>\n",
       "      <td>2017.000000</td>\n",
       "    </tr>\n",
       "    <tr>\n",
       "      <th>25%</th>\n",
       "      <td>13956.000000</td>\n",
       "      <td>7.000000</td>\n",
       "      <td>3.000000</td>\n",
       "      <td>1.250000</td>\n",
       "      <td>1.000000</td>\n",
       "      <td>2018.000000</td>\n",
       "    </tr>\n",
       "    <tr>\n",
       "      <th>50%</th>\n",
       "      <td>15279.000000</td>\n",
       "      <td>15.000000</td>\n",
       "      <td>6.000000</td>\n",
       "      <td>2.100000</td>\n",
       "      <td>3.000000</td>\n",
       "      <td>2018.000000</td>\n",
       "    </tr>\n",
       "    <tr>\n",
       "      <th>75%</th>\n",
       "      <td>16813.000000</td>\n",
       "      <td>23.000000</td>\n",
       "      <td>10.000000</td>\n",
       "      <td>4.210000</td>\n",
       "      <td>8.000000</td>\n",
       "      <td>2019.000000</td>\n",
       "    </tr>\n",
       "    <tr>\n",
       "      <th>max</th>\n",
       "      <td>18287.000000</td>\n",
       "      <td>31.000000</td>\n",
       "      <td>12.000000</td>\n",
       "      <td>38970.000000</td>\n",
       "      <td>24.000000</td>\n",
       "      <td>2019.000000</td>\n",
       "    </tr>\n",
       "  </tbody>\n",
       "</table>\n",
       "</div>"
      ],
      "text/plain": [
       "         customer_id            day          month          price  \\\n",
       "count  625249.000000  815011.000000  815011.000000  815011.000000   \n",
       "mean    15333.415068      15.064819       6.592718       4.802631   \n",
       "std      1698.360788       8.788845       3.598781     135.058707   \n",
       "min     12346.000000       1.000000       1.000000  -53594.360000   \n",
       "25%     13956.000000       7.000000       3.000000       1.250000   \n",
       "50%     15279.000000      15.000000       6.000000       2.100000   \n",
       "75%     16813.000000      23.000000      10.000000       4.210000   \n",
       "max     18287.000000      31.000000      12.000000   38970.000000   \n",
       "\n",
       "        times_viewed           year  \n",
       "count  815011.000000  815011.000000  \n",
       "mean        5.231106    2018.247654  \n",
       "std         5.109982       0.545261  \n",
       "min         0.000000    2017.000000  \n",
       "25%         1.000000    2018.000000  \n",
       "50%         3.000000    2018.000000  \n",
       "75%         8.000000    2019.000000  \n",
       "max        24.000000    2019.000000  "
      ]
     },
     "execution_count": 8,
     "metadata": {},
     "output_type": "execute_result"
    }
   ],
   "source": [
    "df_total.describe()"
   ]
  },
  {
   "cell_type": "markdown",
   "metadata": {},
   "source": [
    "# Exploratory Data Analysis"
   ]
  },
  {
   "cell_type": "markdown",
   "metadata": {},
   "source": [
    "### Dataset Info"
   ]
  },
  {
   "cell_type": "markdown",
   "metadata": {},
   "source": [
    "Checking Infomation about Dataset Columns including its datatypes and missing data"
   ]
  },
  {
   "cell_type": "code",
   "execution_count": 9,
   "metadata": {},
   "outputs": [
    {
     "name": "stdout",
     "output_type": "stream",
     "text": [
      "<class 'pandas.core.frame.DataFrame'>\n",
      "RangeIndex: 815011 entries, 0 to 815010\n",
      "Data columns (total 10 columns):\n",
      " #   Column        Non-Null Count   Dtype         \n",
      "---  ------        --------------   -----         \n",
      " 0   country       815011 non-null  object        \n",
      " 1   customer_id   625249 non-null  float64       \n",
      " 2   day           815011 non-null  int64         \n",
      " 3   invoice       815011 non-null  object        \n",
      " 4   month         815011 non-null  int64         \n",
      " 5   price         815011 non-null  float64       \n",
      " 6   stream_id     815011 non-null  object        \n",
      " 7   times_viewed  815011 non-null  int64         \n",
      " 8   year          815011 non-null  int64         \n",
      " 9   invoice_date  815011 non-null  datetime64[ns]\n",
      "dtypes: datetime64[ns](1), float64(2), int64(4), object(3)\n",
      "memory usage: 62.2+ MB\n"
     ]
    }
   ],
   "source": [
    "df_total.info(all)"
   ]
  },
  {
   "cell_type": "markdown",
   "metadata": {},
   "source": [
    "### Missing Data"
   ]
  },
  {
   "cell_type": "code",
   "execution_count": 10,
   "metadata": {},
   "outputs": [
    {
     "data": {
      "text/plain": [
       "country              0\n",
       "customer_id     189762\n",
       "day                  0\n",
       "invoice              0\n",
       "month                0\n",
       "price                0\n",
       "stream_id            0\n",
       "times_viewed         0\n",
       "year                 0\n",
       "invoice_date         0\n",
       "dtype: int64"
      ]
     },
     "execution_count": 10,
     "metadata": {},
     "output_type": "execute_result"
    }
   ],
   "source": [
    "df_total.isna().sum()"
   ]
  },
  {
   "cell_type": "code",
   "execution_count": 11,
   "metadata": {},
   "outputs": [
    {
     "data": {
      "image/png": "[encoded data removed]",
      "text/plain": [
       "<Figure size 1800x720 with 2 Axes>"
      ]
     },
     "metadata": {
      "needs_background": "light"
     },
     "output_type": "display_data"
    }
   ],
   "source": [
    "msno.matrix(df_total)\n",
    "plt.show()"
   ]
  },
  {
   "cell_type": "code",
   "execution_count": 12,
   "metadata": {},
   "outputs": [],
   "source": [
    "def missing_zero_values_table(df):\n",
    "\n",
    "    zero_val = (df == 0.00).astype(int).sum(axis=0)\n",
    "    \n",
    "    mis_val = df.isnull().sum()\n",
    "    \n",
    "    mis_val_percent = 100 * df.isnull().sum() / len(df)\n",
    "    \n",
    "    mz_table = pd.concat([zero_val, mis_val, mis_val_percent], axis=1)\n",
    "    mz_table = mz_table.rename(columns = {0 : 'Zero Values', 1 : 'Missing Values', 2 : '% of Total Values'})\n",
    "    mz_table['Total Zero Missing Values'] = mz_table['Zero Values'] + mz_table['Missing Values']\n",
    "    mz_table['% Total Zero Missing Values'] = 100 * mz_table['Total Zero Missing Values'] / len(df)\n",
    "    mz_table['Data Type'] = df.dtypes\n",
    "    mz_table = mz_table[mz_table.iloc[:,1] != 0].sort_values('% of Total Values', ascending=False).round(1)\n",
    "    \n",
    "    print (\"Your selected dataframe has \" + str(df.shape[1]) + \" columns and \" + str(df.shape[0]) + \" Rows.\\n\" \n",
    "    \"There are \" + str(mz_table.shape[0]) +\n",
    "    \" columns that have missing values.\")\n",
    "    \n",
    "    return mz_table"
   ]
  },
  {
   "cell_type": "code",
   "execution_count": 13,
   "metadata": {},
   "outputs": [
    {
     "name": "stdout",
     "output_type": "stream",
     "text": [
      "Your selected dataframe has 10 columns and 815011 Rows.\n",
      "There are 1 columns that have missing values.\n"
     ]
    },
    {
     "data": {
      "text/html": [
       "<div>\n",
       "<style scoped>\n",
       "    .dataframe tbody tr th:only-of-type {\n",
       "        vertical-align: middle;\n",
       "    }\n",
       "\n",
       "    .dataframe tbody tr th {\n",
       "        vertical-align: top;\n",
       "    }\n",
       "\n",
       "    .dataframe thead th {\n",
       "        text-align: right;\n",
       "    }\n",
       "</style>\n",
       "<table border=\"1\" class=\"dataframe\">\n",
       "  <thead>\n",
       "    <tr style=\"text-align: right;\">\n",
       "      <th></th>\n",
       "      <th>Zero Values</th>\n",
       "      <th>Missing Values</th>\n",
       "      <th>% of Total Values</th>\n",
       "      <th>Total Zero Missing Values</th>\n",
       "      <th>% Total Zero Missing Values</th>\n",
       "      <th>Data Type</th>\n",
       "    </tr>\n",
       "  </thead>\n",
       "  <tbody>\n",
       "    <tr>\n",
       "      <th>customer_id</th>\n",
       "      <td>0</td>\n",
       "      <td>189762</td>\n",
       "      <td>23.3</td>\n",
       "      <td>189762</td>\n",
       "      <td>23.3</td>\n",
       "      <td>float64</td>\n",
       "    </tr>\n",
       "  </tbody>\n",
       "</table>\n",
       "</div>"
      ],
      "text/plain": [
       "             Zero Values  Missing Values  % of Total Values  \\\n",
       "customer_id            0          189762               23.3   \n",
       "\n",
       "             Total Zero Missing Values  % Total Zero Missing Values Data Type  \n",
       "customer_id                     189762                         23.3   float64  "
      ]
     },
     "execution_count": 13,
     "metadata": {},
     "output_type": "execute_result"
    }
   ],
   "source": [
    "missing_zero_values_table(df_total)"
   ]
  },
  {
   "cell_type": "markdown",
   "metadata": {},
   "source": [
    "### Removing Alphanumeric Characters from Invoice Column"
   ]
  },
  {
   "cell_type": "code",
   "execution_count": 14,
   "metadata": {},
   "outputs": [],
   "source": [
    "def removeAlphanumeric(InputString):\n",
    "    return re.sub(r'[^0-9]', '', InputString)"
   ]
  },
  {
   "cell_type": "code",
   "execution_count": 15,
   "metadata": {},
   "outputs": [],
   "source": [
    "df_total['invoice'] = df_total['invoice'].apply(removeAlphanumeric)"
   ]
  },
  {
   "cell_type": "markdown",
   "metadata": {},
   "source": [
    "### Removing Lines where Price < 0"
   ]
  },
  {
   "cell_type": "code",
   "execution_count": 16,
   "metadata": {
    "scrolled": true
   },
   "outputs": [
    {
     "data": {
      "text/html": [
       "<div>\n",
       "<style scoped>\n",
       "    .dataframe tbody tr th:only-of-type {\n",
       "        vertical-align: middle;\n",
       "    }\n",
       "\n",
       "    .dataframe tbody tr th {\n",
       "        vertical-align: top;\n",
       "    }\n",
       "\n",
       "    .dataframe thead th {\n",
       "        text-align: right;\n",
       "    }\n",
       "</style>\n",
       "<table border=\"1\" class=\"dataframe\">\n",
       "  <thead>\n",
       "    <tr style=\"text-align: right;\">\n",
       "      <th></th>\n",
       "      <th>country</th>\n",
       "      <th>customer_id</th>\n",
       "      <th>day</th>\n",
       "      <th>invoice</th>\n",
       "      <th>month</th>\n",
       "      <th>price</th>\n",
       "      <th>stream_id</th>\n",
       "      <th>times_viewed</th>\n",
       "      <th>year</th>\n",
       "      <th>invoice_date</th>\n",
       "    </tr>\n",
       "  </thead>\n",
       "  <tbody>\n",
       "    <tr>\n",
       "      <th>180418</th>\n",
       "      <td>United Kingdom</td>\n",
       "      <td>NaN</td>\n",
       "      <td>26</td>\n",
       "      <td>506401</td>\n",
       "      <td>4</td>\n",
       "      <td>-53594.36</td>\n",
       "      <td>B</td>\n",
       "      <td>1</td>\n",
       "      <td>2018</td>\n",
       "      <td>2018-04-26</td>\n",
       "    </tr>\n",
       "    <tr>\n",
       "      <th>276274</th>\n",
       "      <td>United Kingdom</td>\n",
       "      <td>NaN</td>\n",
       "      <td>16</td>\n",
       "      <td>516228</td>\n",
       "      <td>7</td>\n",
       "      <td>-44031.79</td>\n",
       "      <td>B</td>\n",
       "      <td>1</td>\n",
       "      <td>2018</td>\n",
       "      <td>2018-07-16</td>\n",
       "    </tr>\n",
       "    <tr>\n",
       "      <th>403469</th>\n",
       "      <td>United Kingdom</td>\n",
       "      <td>NaN</td>\n",
       "      <td>17</td>\n",
       "      <td>528059</td>\n",
       "      <td>10</td>\n",
       "      <td>-38925.87</td>\n",
       "      <td>B</td>\n",
       "      <td>1</td>\n",
       "      <td>2018</td>\n",
       "      <td>2018-10-17</td>\n",
       "    </tr>\n",
       "  </tbody>\n",
       "</table>\n",
       "</div>"
      ],
      "text/plain": [
       "               country  customer_id  day invoice  month     price stream_id  \\\n",
       "180418  United Kingdom          NaN   26  506401      4 -53594.36         B   \n",
       "276274  United Kingdom          NaN   16  516228      7 -44031.79         B   \n",
       "403469  United Kingdom          NaN   17  528059     10 -38925.87         B   \n",
       "\n",
       "        times_viewed  year invoice_date  \n",
       "180418             1  2018   2018-04-26  \n",
       "276274             1  2018   2018-07-16  \n",
       "403469             1  2018   2018-10-17  "
      ]
     },
     "execution_count": 16,
     "metadata": {},
     "output_type": "execute_result"
    }
   ],
   "source": [
    "# See if price is negative. If yes, remove\n",
    "df_total[df_total['price'] < 0]"
   ]
  },
  {
   "cell_type": "code",
   "execution_count": 17,
   "metadata": {},
   "outputs": [
    {
     "data": {
      "text/plain": [
       "(815008, 10)"
      ]
     },
     "execution_count": 17,
     "metadata": {},
     "output_type": "execute_result"
    }
   ],
   "source": [
    "df_total = df_total[df_total['price'] >= 0]\n",
    "df_total.shape"
   ]
  },
  {
   "cell_type": "markdown",
   "metadata": {},
   "source": [
    "### Countries with Higher Revenues"
   ]
  },
  {
   "cell_type": "code",
   "execution_count": 18,
   "metadata": {},
   "outputs": [
    {
     "name": "stdout",
     "output_type": "stream",
     "text": [
      "Countries With Most Entries\n"
     ]
    },
    {
     "data": {
      "text/plain": [
       "United Kingdom          751225\n",
       "EIRE                     13577\n",
       "Germany                  13336\n",
       "France                    9899\n",
       "Netherlands               4024\n",
       "Spain                     2606\n",
       "Switzerland               2326\n",
       "Belgium                   2166\n",
       "Portugal                  1815\n",
       "Australia                 1543\n",
       "Channel Islands           1287\n",
       "Sweden                    1156\n",
       "Italy                     1049\n",
       "Cyprus                     907\n",
       "Norway                     796\n",
       "Finland                    749\n",
       "Austria                    719\n",
       "Denmark                    629\n",
       "Greece                     627\n",
       "Unspecified                614\n",
       "Japan                      514\n",
       "United Arab Emirates       462\n",
       "Poland                     429\n",
       "Singapore                  310\n",
       "Hong Kong                  276\n",
       "USA                        266\n",
       "Canada                     223\n",
       "Malta                      219\n",
       "Iceland                    195\n",
       "Lithuania                  189\n",
       "Israel                     139\n",
       "Bahrain                    126\n",
       "RSA                        111\n",
       "Brazil                      94\n",
       "Thailand                    76\n",
       "Korea                       63\n",
       "European Community          61\n",
       "Lebanon                     58\n",
       "West Indies                 54\n",
       "Bermuda                     34\n",
       "Nigeria                     32\n",
       "Czech Republic              17\n",
       "Saudi Arabia                10\n",
       "Name: country, dtype: int64"
      ]
     },
     "execution_count": 18,
     "metadata": {},
     "output_type": "execute_result"
    }
   ],
   "source": [
    "print(\"Countries With Most Entries\")\n",
    "df_total['country'].value_counts()"
   ]
  },
  {
   "cell_type": "code",
   "execution_count": 34,
   "metadata": {},
   "outputs": [
    {
     "data": {
      "text/plain": [
       "[647.19,\n",
       " 470.24,\n",
       " 775.24,\n",
       " 862.67,\n",
       " 1998.49,\n",
       " 922.05,\n",
       " 862.38,\n",
       " 630.36,\n",
       " 560.87,\n",
       " 483.14,\n",
       " 660.21,\n",
       " 810.57,\n",
       " 1213.02,\n",
       " 815.01,\n",
       " 882.72,\n",
       " 602.14,\n",
       " 632.06,\n",
       " 398.05,\n",
       " 848.43,\n",
       " 906.26,\n",
       " 500.13,\n",
       " 637.09,\n",
       " 945.56,\n",
       " 753.98,\n",
       " 803.25,\n",
       " 803.25,\n",
       " 692.24,\n",
       " 604.12,\n",
       " 547.3,\n",
       " 440.9,\n",
       " 467.05,\n",
       " 429.14,\n",
       " 780.52,\n",
       " 780.52,\n",
       " 780.52,\n",
       " 371.77,\n",
       " 975.11,\n",
       " 435.88,\n",
       " 751.11,\n",
       " 546.95,\n",
       " 354.45,\n",
       " 323.88,\n",
       " 546.95,\n",
       " 780.52,\n",
       " 407.75,\n",
       " 378.8,\n",
       " 441.1,\n",
       " 767.99,\n",
       " 1747.62,\n",
       " 344.17,\n",
       " 345.65,\n",
       " 451.02,\n",
       " 1081.7,\n",
       " 756.85,\n",
       " 756.85,\n",
       " 756.85,\n",
       " 687.39,\n",
       " 756.85,\n",
       " 1193.89,\n",
       " 1193.89,\n",
       " 649.83,\n",
       " 343.61,\n",
       " 342.8,\n",
       " 503.19,\n",
       " 5117.03,\n",
       " 387.54,\n",
       " 8985.6,\n",
       " 8985.6,\n",
       " 1065.54,\n",
       " 373.57,\n",
       " 818.19,\n",
       " 818.19,\n",
       " 608.5,\n",
       " 608.5,\n",
       " 503.9,\n",
       " 503.9,\n",
       " 365.1,\n",
       " 365.1,\n",
       " 328.26,\n",
       " 321.59,\n",
       " 1508.65,\n",
       " 1508.65,\n",
       " 543.57,\n",
       " 947.08,\n",
       " 467.54,\n",
       " 664.23,\n",
       " 1466.23,\n",
       " 343.84,\n",
       " 347.43,\n",
       " 370.64,\n",
       " 373.57,\n",
       " 774.04,\n",
       " 372.3,\n",
       " 370.96,\n",
       " 504.75,\n",
       " 372.5,\n",
       " 375.16,\n",
       " 373.57,\n",
       " 6958.17,\n",
       " 6958.17,\n",
       " 6958.17,\n",
       " 6958.17,\n",
       " 5795.87,\n",
       " 5795.87,\n",
       " 506.51,\n",
       " 506.51,\n",
       " 934.66,\n",
       " 934.66,\n",
       " 322.69,\n",
       " 322.69,\n",
       " 10953.5,\n",
       " 10953.5,\n",
       " 10953.5,\n",
       " 10953.5,\n",
       " 1144.73,\n",
       " 779.32,\n",
       " 1144.73,\n",
       " 779.32,\n",
       " 605.18,\n",
       " 867.79,\n",
       " 782.56,\n",
       " 782.56,\n",
       " 1899.67,\n",
       " 1598.67,\n",
       " 1899.67,\n",
       " 1598.67,\n",
       " 525.65,\n",
       " 525.65,\n",
       " 1834.14,\n",
       " 1834.14,\n",
       " 313.51,\n",
       " 361.11,\n",
       " 752.32,\n",
       " 315.45,\n",
       " 331.1,\n",
       " 376.17,\n",
       " 5843.7,\n",
       " 5843.7,\n",
       " 773.5,\n",
       " 773.5,\n",
       " 2451.26,\n",
       " 2451.26,\n",
       " 660.86,\n",
       " 4217.59,\n",
       " 4217.59,\n",
       " 874.84,\n",
       " 874.84,\n",
       " 847.84,\n",
       " 874.84,\n",
       " 5876.34,\n",
       " 5876.34,\n",
       " 1075.63,\n",
       " 605.53,\n",
       " 371.85,\n",
       " 371.85,\n",
       " 332.75,\n",
       " 354.43,\n",
       " 408.4,\n",
       " 759.36,\n",
       " 607.53,\n",
       " 662.25,\n",
       " 396.2,\n",
       " 662.25,\n",
       " 396.2,\n",
       " 1157.15,\n",
       " 864.59,\n",
       " 465.21,\n",
       " 754.3,\n",
       " 358.47,\n",
       " 2396.61,\n",
       " 2396.61,\n",
       " 414.08,\n",
       " 589.59,\n",
       " 555.22,\n",
       " 849.45,\n",
       " 849.45,\n",
       " 849.45,\n",
       " 849.45,\n",
       " 648.05,\n",
       " 1000.63,\n",
       " 590.0,\n",
       " 1000.63,\n",
       " 648.05,\n",
       " 851.6,\n",
       " 851.6,\n",
       " 590.0,\n",
       " 851.6,\n",
       " 851.6,\n",
       " 355.2,\n",
       " 355.2,\n",
       " 388.41,\n",
       " 1018.58,\n",
       " 955.06,\n",
       " 955.06,\n",
       " 3248.86,\n",
       " 3248.86,\n",
       " 4620.86,\n",
       " 4620.86,\n",
       " 25111.09,\n",
       " 25111.09,\n",
       " 1549.66,\n",
       " 358.47,\n",
       " 1588.51,\n",
       " 715.02,\n",
       " 715.02,\n",
       " 661.02,\n",
       " 1189.94,\n",
       " 3580.8,\n",
       " 453.82,\n",
       " 858.59,\n",
       " 626.35,\n",
       " 626.35,\n",
       " 331.2,\n",
       " 3610.5,\n",
       " 3610.5,\n",
       " 1870.17,\n",
       " 800.0,\n",
       " 334.88,\n",
       " 334.88,\n",
       " 800.0,\n",
       " 1883.65,\n",
       " 1883.65,\n",
       " 402.69,\n",
       " 1016.79,\n",
       " 677.5,\n",
       " 591.43,\n",
       " 18910.69,\n",
       " 598.31,\n",
       " 638.2,\n",
       " 2197.45,\n",
       " 317.94,\n",
       " 1868.56,\n",
       " 1868.56,\n",
       " 1055.75,\n",
       " 1055.75,\n",
       " 363.71,\n",
       " 376.81,\n",
       " 445.05,\n",
       " 445.05,\n",
       " 10468.8,\n",
       " 2769.9,\n",
       " 10468.8,\n",
       " 2769.9,\n",
       " 413.28,\n",
       " 413.28,\n",
       " 744.54,\n",
       " 1343.44,\n",
       " 1343.44,\n",
       " 359.71,\n",
       " 359.71,\n",
       " 445.05,\n",
       " 445.05,\n",
       " 10468.8,\n",
       " 10468.8,\n",
       " 2769.9,\n",
       " 2769.9,\n",
       " 359.71,\n",
       " 359.71,\n",
       " 1343.44,\n",
       " 1343.44,\n",
       " 483.15,\n",
       " 483.15,\n",
       " 314.11,\n",
       " 2545.85,\n",
       " 2545.85,\n",
       " 2545.85,\n",
       " 2545.85,\n",
       " 413.4,\n",
       " 963.36,\n",
       " 445.06,\n",
       " 445.06,\n",
       " 10468.8,\n",
       " 10468.8,\n",
       " 2769.9,\n",
       " 2769.9,\n",
       " 359.71,\n",
       " 359.71,\n",
       " 1343.44,\n",
       " 1343.44,\n",
       " 7044.79,\n",
       " 2285.31,\n",
       " 7044.79,\n",
       " 2285.31,\n",
       " 2366.4,\n",
       " 2545.85,\n",
       " 2545.85,\n",
       " 2366.4,\n",
       " 731.05,\n",
       " 756.4,\n",
       " 756.4,\n",
       " 1108.44,\n",
       " 1108.44,\n",
       " 2667.88,\n",
       " 2667.88,\n",
       " 350.6,\n",
       " 1108.44,\n",
       " 2667.88,\n",
       " 1108.44,\n",
       " 2667.88,\n",
       " 345.01,\n",
       " 345.01,\n",
       " 2225.17,\n",
       " 2225.17,\n",
       " 2225.17,\n",
       " 2225.71,\n",
       " 530.31,\n",
       " 530.31,\n",
       " 830.12,\n",
       " 830.12,\n",
       " 619.92,\n",
       " 416.46,\n",
       " 394.27,\n",
       " 520.8,\n",
       " 780.25,\n",
       " 780.25,\n",
       " 2736.16,\n",
       " 1155.6,\n",
       " 2736.16,\n",
       " 1155.6,\n",
       " 1435.29,\n",
       " 1435.29,\n",
       " 313.33,\n",
       " 327.14,\n",
       " 341.28,\n",
       " 346.98,\n",
       " 6706.71,\n",
       " 6706.71,\n",
       " 498.42,\n",
       " 498.42,\n",
       " 664.56,\n",
       " 498.42,\n",
       " 359.35,\n",
       " 1269.51,\n",
       " 426.92,\n",
       " 397.15,\n",
       " 437.67,\n",
       " 465.22,\n",
       " 329.72,\n",
       " 850.0,\n",
       " 419.46,\n",
       " 456.1,\n",
       " 385.58,\n",
       " 312.26,\n",
       " 444.84,\n",
       " 368.16,\n",
       " 313.43,\n",
       " 385.48,\n",
       " 504.21,\n",
       " 518.79,\n",
       " 479.32,\n",
       " 390.01,\n",
       " 525.96,\n",
       " 630.48,\n",
       " 607.49,\n",
       " 569.77,\n",
       " 607.49,\n",
       " 569.77,\n",
       " 887.52,\n",
       " 498.47,\n",
       " 498.47,\n",
       " 887.52,\n",
       " 863.74,\n",
       " 950.99,\n",
       " 950.99,\n",
       " 940.87,\n",
       " 863.74,\n",
       " 940.87,\n",
       " 924.59,\n",
       " 631.31,\n",
       " 313.78,\n",
       " 13541.33,\n",
       " 13541.33,\n",
       " 836.14,\n",
       " 448.0,\n",
       " 593.15,\n",
       " 607.96,\n",
       " 13474.79,\n",
       " 5519.25,\n",
       " 6706.71,\n",
       " 13541.33,\n",
       " 701.95,\n",
       " 924.59,\n",
       " 631.31,\n",
       " 313.78,\n",
       " 13541.33,\n",
       " 13541.33,\n",
       " 836.14,\n",
       " 448.0,\n",
       " 593.15,\n",
       " 607.96,\n",
       " 13474.79,\n",
       " 5519.25,\n",
       " 13541.33,\n",
       " 6706.71,\n",
       " 701.95,\n",
       " 729.42,\n",
       " 729.42,\n",
       " 822.94,\n",
       " 620.68,\n",
       " 547.32,\n",
       " 885.94,\n",
       " 547.32,\n",
       " 620.68,\n",
       " 822.94,\n",
       " 885.94,\n",
       " 847.42,\n",
       " 907.47,\n",
       " 641.86,\n",
       " 584.59,\n",
       " 966.92,\n",
       " 316.3,\n",
       " 1130.9,\n",
       " 340.72,\n",
       " 510.79,\n",
       " 565.37,\n",
       " 803.55,\n",
       " 662.14,\n",
       " 603.62,\n",
       " 396.81,\n",
       " 350.78,\n",
       " 337.23,\n",
       " 514.0,\n",
       " 549.79,\n",
       " 324.43,\n",
       " 1298.4,\n",
       " 627.47,\n",
       " 469.7,\n",
       " 16453.71,\n",
       " 16888.02,\n",
       " 458.29,\n",
       " 1126.0,\n",
       " 369.95,\n",
       " 557.0,\n",
       " 394.83,\n",
       " 491.93,\n",
       " 478.1,\n",
       " 404.49,\n",
       " 323.98,\n",
       " 391.32,\n",
       " 449.52,\n",
       " 470.12,\n",
       " 544.4,\n",
       " 1283.8,\n",
       " 1050.15,\n",
       " 334.16,\n",
       " 403.81,\n",
       " 1715.85,\n",
       " 856.48,\n",
       " 1435.79,\n",
       " 566.37,\n",
       " 869.55,\n",
       " 320.69,\n",
       " 320.69,\n",
       " 5575.28,\n",
       " 5258.77,\n",
       " 764.12,\n",
       " 376.5,\n",
       " 376.5,\n",
       " 537.83,\n",
       " 326.68,\n",
       " 1687.17,\n",
       " 1687.17,\n",
       " 1687.17,\n",
       " 1687.17,\n",
       " 2583.76,\n",
       " 2583.76,\n",
       " 498.79,\n",
       " 5693.05,\n",
       " 5225.03,\n",
       " 1486.12,\n",
       " 646.46,\n",
       " 416.75,\n",
       " 325.0,\n",
       " 350.0,\n",
       " 2382.92,\n",
       " 1252.95,\n",
       " 2053.07,\n",
       " 1252.95,\n",
       " 2053.07,\n",
       " 2382.92,\n",
       " 336.52,\n",
       " 1136.3,\n",
       " 1136.3,\n",
       " 1867.86,\n",
       " 1867.86,\n",
       " 475.69,\n",
       " 678.03,\n",
       " 400.0,\n",
       " 8142.75,\n",
       " 8142.75,\n",
       " 6930.0,\n",
       " 587.08,\n",
       " 440.29,\n",
       " 598.59,\n",
       " 334.71,\n",
       " 334.71,\n",
       " 929.9,\n",
       " 523.0,\n",
       " 557.72,\n",
       " 557.72,\n",
       " 5876.4,\n",
       " 7006.83,\n",
       " 452.45,\n",
       " 465.87,\n",
       " 1241.98,\n",
       " 1241.98,\n",
       " 1241.98,\n",
       " 1241.98,\n",
       " 557.72,\n",
       " 557.72,\n",
       " 600.0,\n",
       " 649.5,\n",
       " 38970.0,\n",
       " 649.5,\n",
       " 464.52,\n",
       " 702.38,\n",
       " 1216.12,\n",
       " 1917.0,\n",
       " 1216.12,\n",
       " 1917.0,\n",
       " 545.58,\n",
       " 700.0,\n",
       " 5791.18,\n",
       " 4534.24,\n",
       " 542.2,\n",
       " 542.2,\n",
       " 481.45,\n",
       " 570.0,\n",
       " 600.0,\n",
       " 858.46,\n",
       " 389.68,\n",
       " 389.68,\n",
       " 576.18,\n",
       " 531.65,\n",
       " 319.82,\n",
       " 375.64,\n",
       " 4383.62,\n",
       " 6497.47,\n",
       " 550.94,\n",
       " 377.33,\n",
       " 4287.63,\n",
       " 4287.63,\n",
       " 550.64,\n",
       " 550.64,\n",
       " 717.23,\n",
       " 550.64,\n",
       " 550.64,\n",
       " 1592.49,\n",
       " 1592.49,\n",
       " 717.23,\n",
       " 611.86,\n",
       " 611.86,\n",
       " 323.05,\n",
       " 705.45,\n",
       " 705.45,\n",
       " 451.42,\n",
       " 3060.6,\n",
       " 451.42,\n",
       " 451.42,\n",
       " 451.42,\n",
       " 770.26,\n",
       " 367.38,\n",
       " 356.7,\n",
       " 4575.64,\n",
       " 6721.37]"
      ]
     },
     "execution_count": 34,
     "metadata": {},
     "output_type": "execute_result"
    }
   ],
   "source": [
    "find_anomalies(df_total.price)"
   ]
  },
  {
   "cell_type": "code",
   "execution_count": 19,
   "metadata": {},
   "outputs": [
    {
     "name": "stdout",
     "output_type": "stream",
     "text": [
      "Top 10 Countries in terms of Revenue\n",
      "(43, 1)\n"
     ]
    },
    {
     "data": {
      "text/html": [
       "<div>\n",
       "<style scoped>\n",
       "    .dataframe tbody tr th:only-of-type {\n",
       "        vertical-align: middle;\n",
       "    }\n",
       "\n",
       "    .dataframe tbody tr th {\n",
       "        vertical-align: top;\n",
       "    }\n",
       "\n",
       "    .dataframe thead th {\n",
       "        text-align: right;\n",
       "    }\n",
       "</style>\n",
       "<table border=\"1\" class=\"dataframe\">\n",
       "  <thead>\n",
       "    <tr style=\"text-align: right;\">\n",
       "      <th></th>\n",
       "      <th>revenue</th>\n",
       "    </tr>\n",
       "    <tr>\n",
       "      <th>country</th>\n",
       "      <th></th>\n",
       "    </tr>\n",
       "  </thead>\n",
       "  <tbody>\n",
       "    <tr>\n",
       "      <th>United Kingdom</th>\n",
       "      <td>3658065.525005765</td>\n",
       "    </tr>\n",
       "    <tr>\n",
       "      <th>EIRE</th>\n",
       "      <td>107069.20999999279</td>\n",
       "    </tr>\n",
       "    <tr>\n",
       "      <th>Germany</th>\n",
       "      <td>49271.820999998</td>\n",
       "    </tr>\n",
       "    <tr>\n",
       "      <th>France</th>\n",
       "      <td>40565.13999999977</td>\n",
       "    </tr>\n",
       "    <tr>\n",
       "      <th>Norway</th>\n",
       "      <td>38494.74999999956</td>\n",
       "    </tr>\n",
       "    <tr>\n",
       "      <th>Spain</th>\n",
       "      <td>16040.990000000262</td>\n",
       "    </tr>\n",
       "    <tr>\n",
       "      <th>Hong Kong</th>\n",
       "      <td>14452.57000000003</td>\n",
       "    </tr>\n",
       "    <tr>\n",
       "      <th>Portugal</th>\n",
       "      <td>13528.669999999951</td>\n",
       "    </tr>\n",
       "    <tr>\n",
       "      <th>Singapore</th>\n",
       "      <td>13175.92000000001</td>\n",
       "    </tr>\n",
       "    <tr>\n",
       "      <th>Netherlands</th>\n",
       "      <td>12322.800000000087</td>\n",
       "    </tr>\n",
       "  </tbody>\n",
       "</table>\n",
       "</div>"
      ],
      "text/plain": [
       "                          revenue\n",
       "country                          \n",
       "United Kingdom  3658065.525005765\n",
       "EIRE           107069.20999999279\n",
       "Germany           49271.820999998\n",
       "France          40565.13999999977\n",
       "Norway          38494.74999999956\n",
       "Spain          16040.990000000262\n",
       "Hong Kong       14452.57000000003\n",
       "Portugal       13528.669999999951\n",
       "Singapore       13175.92000000001\n",
       "Netherlands    12322.800000000087"
      ]
     },
     "execution_count": 19,
     "metadata": {},
     "output_type": "execute_result"
    }
   ],
   "source": [
    "pd.set_option('display.float_format', str)\n",
    "df_rev = df_total[['country', 'price']].groupby('country').sum().sort_values('price', ascending=False)\n",
    "df_rev = df_rev.rename(columns={'price': 'revenue'})\n",
    "\n",
    "df_rev_by_country = df_rev.reset_index()\n",
    "\n",
    "print(\"Top 10 Countries in terms of Revenue\")\n",
    "print(df_rev.shape)\n",
    "\n",
    "df_rev[:10]"
   ]
  },
  {
   "cell_type": "markdown",
   "metadata": {},
   "source": [
    "There are quite few records for several countries with least revenues. So it would be better to get a subset of top 10 countries with highest revenue.  Perform further investigation based on this subset"
   ]
  },
  {
   "cell_type": "code",
   "execution_count": 20,
   "metadata": {},
   "outputs": [
    {
     "data": {
      "text/plain": [
       "(797864, 10)"
      ]
     },
     "execution_count": 20,
     "metadata": {},
     "output_type": "execute_result"
    }
   ],
   "source": [
    "## Subset of only top 10 countries for plots\n",
    "list_top_10 = ['United Kingdom', 'EIRE', 'Germany', 'France',\n",
    "               'Norway', 'Spain', 'Hong Kong', 'Portugal',\n",
    "               'Singapore', 'Netherlands']\n",
    "df_top = df_total[df_total['country'].isin(list_top_10)]\n",
    "df_top.shape"
   ]
  },
  {
   "cell_type": "markdown",
   "metadata": {},
   "source": [
    "### Visualization"
   ]
  },
  {
   "cell_type": "code",
   "execution_count": 21,
   "metadata": {},
   "outputs": [
    {
     "data": {
      "image/png": "[encoded data removed]",
      "text/plain": [
       "<Figure size 1008x432 with 1 Axes>"
      ]
     },
     "metadata": {
      "needs_background": "light"
     },
     "output_type": "display_data"
    }
   ],
   "source": [
    "fig = plt.figure(figsize=(14,6))\n",
    "ax2 = fig.add_subplot(121)\n",
    "plt.title('Distribution of Price by Top 10 Countries')\n",
    "table2 = pd.pivot_table(df_top, index = ['country'], values = 'price')\n",
    "table2.plot(kind='barh',ax=ax2, colormap=\"coolwarm\")\n",
    "ax2.set_xlabel(\"Price\");"
   ]
  },
  {
   "cell_type": "code",
   "execution_count": 22,
   "metadata": {},
   "outputs": [
    {
     "data": {
      "image/png": "[encoded data removed]",
      "text/plain": [
       "<Figure size 1008x432 with 1 Axes>"
      ]
     },
     "metadata": {
      "needs_background": "light"
     },
     "output_type": "display_data"
    }
   ],
   "source": [
    "fig = plt.figure(figsize=(14,6))\n",
    "ax2 = fig.add_subplot(121)\n",
    "\n",
    "plt.title('Distribution of Times Viewed by Top 10 Countries')\n",
    "table2 = pd.pivot_table(df_top, index = ['country'], values = 'times_viewed')\n",
    "table2.plot(kind='barh',ax=ax2, colormap=\"coolwarm\")\n",
    "ax2.set_xlabel(\"Number of times viewed\");"
   ]
  },
  {
   "cell_type": "code",
   "execution_count": 23,
   "metadata": {},
   "outputs": [
    {
     "data": {
      "text/plain": [
       "(0.0, 120.0)"
      ]
     },
     "execution_count": 23,
     "metadata": {},
     "output_type": "execute_result"
    },
    {
     "data": {
      "image/png": "[encoded data removed]",
      "text/plain": [
       "<Figure size 1008x432 with 1 Axes>"
      ]
     },
     "metadata": {
      "needs_background": "light"
     },
     "output_type": "display_data"
    }
   ],
   "source": [
    "fig = plt.figure(figsize=(14,6))\n",
    "ax1 = fig.add_subplot(121)\n",
    "\n",
    "plt.title('Distribution of Price by Year on Top 10 Countries')\n",
    "table1 = pd.pivot_table(df_top,index='country',columns='year',values=\"price\")\n",
    "table1.plot(kind='bar',ax=ax1, colormap=\"GnBu\")\n",
    "ax1.set_ylabel(\"Price\")\n",
    "ax1.set_ylim((0,120))"
   ]
  },
  {
   "cell_type": "code",
   "execution_count": 24,
   "metadata": {},
   "outputs": [
    {
     "data": {
      "text/plain": [
       "(0.0, 12.0)"
      ]
     },
     "execution_count": 24,
     "metadata": {},
     "output_type": "execute_result"
    },
    {
     "data": {
      "image/png": "[encoded data removed]",
      "text/plain": [
       "<Figure size 1296x432 with 1 Axes>"
      ]
     },
     "metadata": {
      "needs_background": "light"
     },
     "output_type": "display_data"
    }
   ],
   "source": [
    "fig = plt.figure(figsize=(18,6))\n",
    "ax2 = fig.add_subplot(121)\n",
    "\n",
    "plt.title('Distribution of Times Viewed by Year on Top 10 Countries')\n",
    "table2 = pd.pivot_table(df_top,index='country',columns='year',values=\"times_viewed\")\n",
    "table2.plot(kind='bar',ax=ax2, colormap=\"GnBu\")\n",
    "ax2.set_ylabel(\"Number of Views\")\n",
    "ax2.set_ylim((0,12))"
   ]
  },
  {
   "cell_type": "code",
   "execution_count": 25,
   "metadata": {},
   "outputs": [
    {
     "data": {
      "image/png": "[encoded data removed]",
      "text/plain": [
       "<Figure size 720x360 with 2 Axes>"
      ]
     },
     "metadata": {
      "needs_background": "light"
     },
     "output_type": "display_data"
    }
   ],
   "source": [
    "fig, axes = plt.subplots(1, 2, figsize=(10,5))\n",
    "\n",
    "#Original Data (High Dispersion)\n",
    "axes[0].set_title('Distribution of Price')\n",
    "sns.distplot(df_top.price, ax=axes[0], kde=False)\n",
    "axes[0].grid()\n",
    "\n",
    "axes[1].set_title('Distribution of log(Price + 1)')\n",
    "sns.distplot(np.log1p(df_top.price), ax=axes[1], fit=norm, kde=False)\n",
    "axes[1].set_xticks(range(0,6))\n",
    "axes[1].grid()\n",
    "\n",
    "fig.tight_layout()"
   ]
  },
  {
   "cell_type": "code",
   "execution_count": 26,
   "metadata": {},
   "outputs": [
    {
     "name": "stderr",
     "output_type": "stream",
     "text": [
      "C:\\Users\\william_maia\\Anaconda3\\lib\\site-packages\\ipykernel_launcher.py:2: SettingWithCopyWarning: \n",
      "A value is trying to be set on a copy of a slice from a DataFrame.\n",
      "Try using .loc[row_indexer,col_indexer] = value instead\n",
      "\n",
      "See the caveats in the documentation: https://pandas.pydata.org/pandas-docs/stable/user_guide/indexing.html#returning-a-view-versus-a-copy\n",
      "  \n"
     ]
    }
   ],
   "source": [
    "#Definindo Feature com transformação logaritimica\n",
    "df_top['log_price'] = np.log1p(df_top.price)"
   ]
  },
  {
   "cell_type": "code",
   "execution_count": 27,
   "metadata": {},
   "outputs": [
    {
     "data": {
      "text/plain": [
       "<AxesSubplot:title={'center':'Distribution of Times Viewed'}, xlabel='times_viewed'>"
      ]
     },
     "execution_count": 27,
     "metadata": {},
     "output_type": "execute_result"
    },
    {
     "data": {
      "image/png": "[encoded data removed]",
      "text/plain": [
       "<Figure size 720x360 with 1 Axes>"
      ]
     },
     "metadata": {},
     "output_type": "display_data"
    }
   ],
   "source": [
    "sns.set(rc={\"figure.figsize\": (10, 5)})\n",
    "plt.title('Distribution of Times Viewed')\n",
    "sns.distplot(df_total.times_viewed)"
   ]
  },
  {
   "cell_type": "code",
   "execution_count": 31,
   "metadata": {},
   "outputs": [
    {
     "data": {
      "image/png": "[encoded data removed]",
      "text/plain": [
       "<Figure size 360x360 with 1 Axes>"
      ]
     },
     "metadata": {},
     "output_type": "display_data"
    }
   ],
   "source": [
    "g = sns.relplot(x='invoice_date', y='price', data=df_top.groupby(pd.Grouper(key='invoice_date', freq='B')).sum().reset_index(), kind='line')\n",
    "g.fig.autofmt_xdate()"
   ]
  },
  {
   "cell_type": "markdown",
   "metadata": {},
   "source": [
    "In order to carry out a time series analysis, record of each day should be considered and the dataframe should be in a chronological order so that forecasting models can fit and provide revenue i.e price for the following month. Let's start by aggregating the transactions by day"
   ]
  },
  {
   "cell_type": "code",
   "execution_count": 32,
   "metadata": {},
   "outputs": [
    {
     "data": {
      "text/html": [
       "<div>\n",
       "<style scoped>\n",
       "    .dataframe tbody tr th:only-of-type {\n",
       "        vertical-align: middle;\n",
       "    }\n",
       "\n",
       "    .dataframe tbody tr th {\n",
       "        vertical-align: top;\n",
       "    }\n",
       "\n",
       "    .dataframe thead th {\n",
       "        text-align: right;\n",
       "    }\n",
       "</style>\n",
       "<table border=\"1\" class=\"dataframe\">\n",
       "  <thead>\n",
       "    <tr style=\"text-align: right;\">\n",
       "      <th></th>\n",
       "      <th>invoice_date</th>\n",
       "      <th>times_viewed</th>\n",
       "      <th>price</th>\n",
       "      <th>country</th>\n",
       "    </tr>\n",
       "  </thead>\n",
       "  <tbody>\n",
       "    <tr>\n",
       "      <th>0</th>\n",
       "      <td>2017-11-28</td>\n",
       "      <td>14948</td>\n",
       "      <td>14139.140000000087</td>\n",
       "      <td>United Kingdom</td>\n",
       "    </tr>\n",
       "    <tr>\n",
       "      <th>1</th>\n",
       "      <td>2017-11-29</td>\n",
       "      <td>14135</td>\n",
       "      <td>13396.920000000135</td>\n",
       "      <td>United Kingdom</td>\n",
       "    </tr>\n",
       "    <tr>\n",
       "      <th>2</th>\n",
       "      <td>2017-11-30</td>\n",
       "      <td>15560</td>\n",
       "      <td>13250.070000000167</td>\n",
       "      <td>United Kingdom</td>\n",
       "    </tr>\n",
       "    <tr>\n",
       "      <th>3</th>\n",
       "      <td>2017-12-01</td>\n",
       "      <td>12180</td>\n",
       "      <td>9517.350000000051</td>\n",
       "      <td>United Kingdom</td>\n",
       "    </tr>\n",
       "    <tr>\n",
       "      <th>4</th>\n",
       "      <td>2017-12-02</td>\n",
       "      <td>3101</td>\n",
       "      <td>1263.2800000000032</td>\n",
       "      <td>United Kingdom</td>\n",
       "    </tr>\n",
       "    <tr>\n",
       "      <th>5</th>\n",
       "      <td>2017-12-03</td>\n",
       "      <td>8421</td>\n",
       "      <td>6354.689999999959</td>\n",
       "      <td>Germany</td>\n",
       "    </tr>\n",
       "    <tr>\n",
       "      <th>6</th>\n",
       "      <td>2017-12-04</td>\n",
       "      <td>12350</td>\n",
       "      <td>13023.360000000022</td>\n",
       "      <td>United Kingdom</td>\n",
       "    </tr>\n",
       "    <tr>\n",
       "      <th>7</th>\n",
       "      <td>2017-12-05</td>\n",
       "      <td>12474</td>\n",
       "      <td>9358.970000000025</td>\n",
       "      <td>United Kingdom</td>\n",
       "    </tr>\n",
       "    <tr>\n",
       "      <th>8</th>\n",
       "      <td>2017-12-06</td>\n",
       "      <td>10493</td>\n",
       "      <td>11263.690000000137</td>\n",
       "      <td>United Kingdom</td>\n",
       "    </tr>\n",
       "    <tr>\n",
       "      <th>9</th>\n",
       "      <td>2017-12-07</td>\n",
       "      <td>11688</td>\n",
       "      <td>10816.890000000127</td>\n",
       "      <td>United Kingdom</td>\n",
       "    </tr>\n",
       "  </tbody>\n",
       "</table>\n",
       "</div>"
      ],
      "text/plain": [
       "  invoice_date  times_viewed              price         country\n",
       "0   2017-11-28         14948 14139.140000000087  United Kingdom\n",
       "1   2017-11-29         14135 13396.920000000135  United Kingdom\n",
       "2   2017-11-30         15560 13250.070000000167  United Kingdom\n",
       "3   2017-12-01         12180  9517.350000000051  United Kingdom\n",
       "4   2017-12-02          3101 1263.2800000000032  United Kingdom\n",
       "5   2017-12-03          8421  6354.689999999959         Germany\n",
       "6   2017-12-04         12350 13023.360000000022  United Kingdom\n",
       "7   2017-12-05         12474  9358.970000000025  United Kingdom\n",
       "8   2017-12-06         10493 11263.690000000137  United Kingdom\n",
       "9   2017-12-07         11688 10816.890000000127  United Kingdom"
      ]
     },
     "execution_count": 32,
     "metadata": {},
     "output_type": "execute_result"
    }
   ],
   "source": [
    "df_agg = df_top.groupby(['invoice_date']).agg({'times_viewed':'sum', 'price':'sum',\n",
    "                                        'country':'first',}).reset_index()\n",
    "df_agg.head(10)"
   ]
  },
  {
   "cell_type": "code",
   "execution_count": 30,
   "metadata": {},
   "outputs": [
    {
     "name": "stdout",
     "output_type": "stream",
     "text": [
      "  invoice_date  times_viewed              price         country\n",
      "0   2017-11-28         14948 14139.140000000087  United Kingdom\n",
      "1   2017-11-29         14135 13396.920000000135  United Kingdom\n",
      "2   2017-11-30         15560 13250.070000000167  United Kingdom\n",
      "3   2017-12-01         12180  9517.350000000051  United Kingdom\n",
      "4   2017-12-02          3101 1263.2800000000032  United Kingdom\n",
      "    invoice_date  times_viewed              price         country\n",
      "490   2019-07-26          7552 3631.9399999999937  United Kingdom\n",
      "491   2019-07-28          6227 2862.5400000000013  United Kingdom\n",
      "492   2019-07-29          6879  4316.049999999987  United Kingdom\n",
      "493   2019-07-30          6155 15466.779999999932  United Kingdom\n",
      "494   2019-07-31          9381  4891.479999999984  United Kingdom\n"
     ]
    }
   ],
   "source": [
    "print(df_agg.head(5))\n",
    "print(df_agg.tail(5))"
   ]
  },
  {
   "cell_type": "code",
   "execution_count": null,
   "metadata": {},
   "outputs": [],
   "source": []
  }
 ],
 "metadata": {
  "kernelspec": {
   "display_name": "Python 3",
   "language": "python",
   "name": "python3"
  },
  "language_info": {
   "codemirror_mode": {
    "name": "ipython",
    "version": 3
   },
   "file_extension": ".py",
   "mimetype": "text/x-python",
   "name": "python",
   "nbconvert_exporter": "python",
   "pygments_lexer": "ipython3",
   "version": "3.7.6"
  }
 },
 "nbformat": 4,
 "nbformat_minor": 4
}
